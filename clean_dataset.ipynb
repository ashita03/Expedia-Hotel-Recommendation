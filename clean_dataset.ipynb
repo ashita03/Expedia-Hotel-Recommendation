{
 "cells": [
  {
   "cell_type": "markdown",
   "metadata": {},
   "source": [
    "# Expedia Hotel Recommendation System\n",
    "## Datasets-\n",
    "#### 1. Train dataset- Click and booking events from 2013 to 2014.\n",
    "#### 2. Test dataset- Booking events in 2015.\n",
    "#### 3. Destinations- Features extracted from hotel reviews text. "
   ]
  },
  {
   "cell_type": "markdown",
   "metadata": {},
   "source": [
    "## Data pre-processing and Analysis\n",
    "***\n",
    "### 1. Load the datasets:"
   ]
  },
  {
   "cell_type": "code",
   "execution_count": 19,
   "metadata": {},
   "outputs": [],
   "source": [
    "import pandas as pd \n",
    "import numpy as np\n",
    "from sklearn import preprocessing\n",
    "from sklearn.decomposition import PCA"
   ]
  },
  {
   "cell_type": "code",
   "execution_count": 58,
   "metadata": {},
   "outputs": [],
   "source": [
    "#load files\n",
    "\n",
    "path_in1='D:/Rutgers/MS-Rutgers/AlgorthmicMachineLrn/Projects/Expedia/DataSet/expedia-hotel-recommendations/train.csv' \n",
    "path_in2='D:/Rutgers/MS-Rutgers/AlgorthmicMachineLrn/Projects/Expedia/DataSet/expedia-hotel-recommendations/test.csv'\n",
    "path_in3='D:/Rutgers/MS-Rutgers/AlgorthmicMachineLrn/Projects/Expedia/DataSet/expedia-hotel-recommendations/destinations.csv'\n",
    "#path_train_final ='D:/Rutgers/MS-Rutgers/AlgorthmicMachineLrn/Projects/Expedia/DataSet/expedia-hotel-recommendations/final.csv'\n",
    "\n",
    "train_set=pd.read_csv(path_in1) #nrows=10000000 limiting no. of rows in case of memory issues\n",
    "test_set=pd.read_csv(path_in2)\n",
    "destinations=pd.read_csv(path_in3)"
   ]
  },
  {
   "cell_type": "markdown",
   "metadata": {},
   "source": [
    "### 2. Data Cleaning:\n",
    "\n",
    "* 1. fitler data with is_booking flag=1 (data size reduced from 37670293 to 3000693)"
   ]
  },
  {
   "cell_type": "code",
   "execution_count": 60,
   "metadata": {},
   "outputs": [
    {
     "data": {
      "text/plain": [
       "1198786"
      ]
     },
     "execution_count": 60,
     "metadata": {},
     "output_type": "execute_result"
    }
   ],
   "source": [
    "unique_users = train_set['user_id'].unique()\n",
    "len(unique_users)"
   ]
  },
  {
   "cell_type": "code",
   "execution_count": 61,
   "metadata": {},
   "outputs": [],
   "source": [
    "train_setv1 = train_set[train_set.is_booking==1]\n",
    "train_setv1 = train_setv1.reset_index(drop=True)\n",
    "# get unique users\n",
    "unique_users = train_setv1['user_id'].unique()"
   ]
  },
  {
   "cell_type": "markdown",
   "metadata": {},
   "source": [
    "* 2.Remove booking Agents: Any user that had over 20 bookings is considered as agents."
   ]
  },
  {
   "cell_type": "code",
   "execution_count": 4,
   "metadata": {},
   "outputs": [
    {
     "data": {
      "text/plain": [
       "3000693"
      ]
     },
     "execution_count": 4,
     "metadata": {},
     "output_type": "execute_result"
    }
   ],
   "source": [
    "#Remove booking Agents: Any user that had over 20 bookings is considered as agents\n",
    "for user in unique_users:\n",
    "    bookings = len(train_setv1.loc[train_setv1['user_id']==user])\n",
    "    if bookings > 20:\n",
    "        train_setv1 = train_setv1[train_setv1.user_id != user]"
   ]
  },
  {
   "cell_type": "markdown",
   "metadata": {},
   "source": [
    "* 3. Verify null values for both test and train data"
   ]
  },
  {
   "cell_type": "code",
   "execution_count": 11,
   "metadata": {},
   "outputs": [
    {
     "data": {
      "text/plain": [
       "id                           0\n",
       "date_time                    0\n",
       "site_name                    0\n",
       "posa_continent               0\n",
       "user_location_country        0\n",
       "user_location_region         0\n",
       "user_location_city           0\n",
       "orig_destination_distance    0\n",
       "user_id                      0\n",
       "is_mobile                    0\n",
       "is_package                   0\n",
       "channel                      0\n",
       "srch_ci                      0\n",
       "srch_co                      0\n",
       "srch_adults_cnt              0\n",
       "srch_children_cnt            0\n",
       "srch_rm_cnt                  0\n",
       "srch_destination_id          0\n",
       "srch_destination_type_id     0\n",
       "hotel_continent              0\n",
       "hotel_country                0\n",
       "hotel_market                 0\n",
       "dtype: int64"
      ]
     },
     "execution_count": 11,
     "metadata": {},
     "output_type": "execute_result"
    }
   ],
   "source": [
    "test_set.isna().sum()"
   ]
  },
  {
   "cell_type": "code",
   "execution_count": 8,
   "metadata": {},
   "outputs": [
    {
     "data": {
      "text/plain": [
       "date_time                    0\n",
       "site_name                    0\n",
       "posa_continent               0\n",
       "user_location_country        0\n",
       "user_location_region         0\n",
       "user_location_city           0\n",
       "orig_destination_distance    0\n",
       "user_id                      0\n",
       "is_mobile                    0\n",
       "is_package                   0\n",
       "channel                      0\n",
       "srch_ci                      0\n",
       "srch_co                      0\n",
       "srch_adults_cnt              0\n",
       "srch_children_cnt            0\n",
       "srch_rm_cnt                  0\n",
       "srch_destination_id          0\n",
       "srch_destination_type_id     0\n",
       "is_booking                   0\n",
       "cnt                          0\n",
       "hotel_continent              0\n",
       "hotel_country                0\n",
       "hotel_market                 0\n",
       "hotel_cluster                0\n",
       "dtype: int64"
      ]
     },
     "execution_count": 8,
     "metadata": {},
     "output_type": "execute_result"
    }
   ],
   "source": [
    "train_setv1.isna().sum()"
   ]
  },
  {
   "cell_type": "markdown",
   "metadata": {},
   "source": [
    "* update column 'orig_destination_distance' with category column to remove null values\n",
    "* update test set removing rows with null values for srch_co and srch_ci"
   ]
  },
  {
   "cell_type": "code",
   "execution_count": 6,
   "metadata": {},
   "outputs": [],
   "source": [
    "def tag_distance(x):\n",
    "    if x < 500:\n",
    "        return 'VERY_CLOSE'\n",
    "    elif x >=500 and x < 2000:\n",
    "        return 'CLOSE'\n",
    "    elif x >=2000 and x < 6000:\n",
    "        return 'FAR'\n",
    "    else:\n",
    "        return 'VERY_FAR'\n",
    "# work on origin_destination_distance\n",
    "train_setv1['orig_destination_distance'] = train_setv1.orig_destination_distance.apply(lambda x: tag_distance(x))\n",
    "test_set['orig_destination_distance'] = test_set.orig_destination_distance.apply(lambda x: tag_distance(x))\n",
    "test_set = test_set[test_set['srch_co'].notna()]\n",
    "test_set = test_set[test_set['srch_ci'].notna()]\n",
    "test_set = test_set[test_set.srch_ci != '2161-10-00'] "
   ]
  },
  {
   "cell_type": "code",
   "execution_count": 13,
   "metadata": {},
   "outputs": [],
   "source": [
    "train_setv1['srch_ci'] = pd.to_datetime(train_setv1['srch_ci'])\n",
    "train_setv1['srch_co'] = pd.to_datetime(train_setv1['srch_co'])\n",
    "train_setv1['date_time'] = pd.to_datetime(train_setv1['date_time'])\n",
    "test_set['srch_ci'] = pd.to_datetime(test_set['srch_ci'])\n",
    "test_set['srch_co'] = pd.to_datetime(test_set['srch_co'])\n",
    "test_set['date_time'] = pd.to_datetime(test_set['date_time'])"
   ]
  },
  {
   "cell_type": "markdown",
   "metadata": {},
   "source": [
    "### Feature Engineering\n",
    "***\n",
    "*1. New coulmns introduced"
   ]
  },
  {
   "cell_type": "code",
   "execution_count": 14,
   "metadata": {},
   "outputs": [],
   "source": [
    "train_setv1['stay_dur'] = (train_setv1['srch_co'] - train_setv1['srch_ci']).astype('timedelta64[D]')\n",
    "train_setv1['no_of_days_before_booking'] = (train_setv1['srch_ci'] - train_setv1['date_time']).astype('timedelta64[D]')\n",
    "train_setv1['current_mon'] = train_setv1['date_time'].dt.month\n",
    "train_setv1['current_year'] = train_setv1['date_time'].dt.year\n",
    "train_setv1['srch_ci_day'] = train_setv1['srch_ci'].dt.day\n",
    "train_setv1['srch_ci_mon'] = train_setv1['srch_ci'].dt.month\n",
    "train_setv1['srch_ci_year'] = train_setv1['srch_ci'].dt.year\n",
    "train_setv1['srch_co_mon'] = train_setv1['srch_co'].dt.month\n",
    "train_setv1['srch_co_year'] = train_setv1['srch_co'].dt.year\n",
    "\n",
    "test_set['stay_dur'] = (test_set['srch_co'] - test_set['srch_ci']).astype('timedelta64[D]')\n",
    "test_set['no_of_days_before_booking'] = (test_set['srch_ci'] - test_set['date_time']).astype('timedelta64[D]')\n",
    "test_set['current_mon'] = test_set['date_time'].dt.month\n",
    "test_set['current_year'] = test_set['date_time'].dt.year\n",
    "test_set['srch_ci_day'] = test_set['srch_ci'].dt.day\n",
    "test_set['srch_ci_mon'] = test_set['srch_ci'].dt.month\n",
    "test_set['srch_ci_year'] = test_set['srch_ci'].dt.year\n",
    "test_set['srch_co_mon'] = test_set['srch_co'].dt.month\n",
    "test_set['srch_co_year'] = test_set['srch_co'].dt.year"
   ]
  },
  {
   "cell_type": "code",
   "execution_count": 15,
   "metadata": {},
   "outputs": [],
   "source": [
    "test_set = test_set.reset_index(drop=True)\n",
    "train_setv1 = train_setv1.reset_index(drop=True)"
   ]
  },
  {
   "cell_type": "code",
   "execution_count": 16,
   "metadata": {},
   "outputs": [],
   "source": [
    "test_set = test_set.drop(columns=['date_time','srch_ci','srch_co'])\n",
    "train_setv1 = train_setv1.drop(columns=['date_time','srch_ci','srch_co'])\n",
    "train_setv1 = train_setv1.drop(columns=['is_booking'])"
   ]
  },
  {
   "cell_type": "code",
   "execution_count": 18,
   "metadata": {},
   "outputs": [],
   "source": [
    "label_encoder = preprocessing.LabelEncoder() \n",
    "train_setv1['orig_destination_distance'] = label_encoder.fit_transform(train_setv1['orig_destination_distance'])\n",
    "test_set['orig_destination_distance'] = label_encoder.fit_transform(test_set['orig_destination_distance'])"
   ]
  },
  {
   "cell_type": "markdown",
   "metadata": {},
   "source": [
    "### 3. Merge Destination sheet\n",
    "*Perform PCA"
   ]
  },
  {
   "cell_type": "code",
   "execution_count": 20,
   "metadata": {},
   "outputs": [],
   "source": [
    "pca = PCA(n_components=10)\n",
    "dest_small = pca.fit_transform(destinations[[\"d{0}\".format(i + 1) for i in range(149)]])\n",
    "dest_small = pd.DataFrame(dest_small)\n",
    "dest_small[\"srch_destination_id\"] = destinations[\"srch_destination_id\"]"
   ]
  },
  {
   "cell_type": "code",
   "execution_count": 24,
   "metadata": {},
   "outputs": [],
   "source": [
    "train_setv1 = pd.merge(train_setv1, dest_small, on='srch_destination_id', how='left')\n",
    "train_setv1.replace(np.nan, 0, inplace=True)\n",
    "test_set = pd.merge(test_set, dest_small, on='srch_destination_id', how='left')\n",
    "test_set.replace(np.nan, 0, inplace=True)"
   ]
  },
  {
   "cell_type": "code",
   "execution_count": 27,
   "metadata": {},
   "outputs": [],
   "source": [
    "#Remove negative data\n",
    "train_setv1 = train_setv1[train_setv1['stay_dur']>0]\n",
    "test_set = test_set[test_set['stay_dur']>0]\n",
    "test_set = test_set[test_set['no_of_days_before_booking'] >0]\n",
    "train_setv1 = train_setv1[train_setv1['no_of_days_before_booking'] >0]"
   ]
  },
  {
   "cell_type": "code",
   "execution_count": 28,
   "metadata": {},
   "outputs": [],
   "source": [
    "train_setv1 = train_setv1.reset_index(drop=True)\n",
    "test_set = test_set.reset_index(drop=True)"
   ]
  },
  {
   "cell_type": "code",
   "execution_count": 33,
   "metadata": {},
   "outputs": [
    {
     "data": {
      "text/plain": [
       "site_name                      int64\n",
       "posa_continent                 int64\n",
       "user_location_country          int64\n",
       "user_location_region           int64\n",
       "user_location_city             int64\n",
       "orig_destination_distance      int32\n",
       "user_id                        int64\n",
       "is_mobile                      int64\n",
       "is_package                     int64\n",
       "channel                        int64\n",
       "srch_adults_cnt                int64\n",
       "srch_children_cnt              int64\n",
       "srch_rm_cnt                    int64\n",
       "srch_destination_id            int64\n",
       "srch_destination_type_id       int64\n",
       "cnt                            int64\n",
       "hotel_continent                int64\n",
       "hotel_country                  int64\n",
       "hotel_market                   int64\n",
       "hotel_cluster                  int64\n",
       "stay_dur                     float64\n",
       "no_of_days_before_booking    float64\n",
       "current_mon                    int64\n",
       "current_year                   int64\n",
       "srch_ci_day                    int64\n",
       "srch_ci_mon                    int64\n",
       "srch_ci_year                   int64\n",
       "srch_co_mon                    int64\n",
       "srch_co_year                   int64\n",
       "0                            float64\n",
       "1                            float64\n",
       "2                            float64\n",
       "3                            float64\n",
       "4                            float64\n",
       "5                            float64\n",
       "6                            float64\n",
       "7                            float64\n",
       "8                            float64\n",
       "9                            float64\n",
       "dtype: object"
      ]
     },
     "execution_count": 33,
     "metadata": {},
     "output_type": "execute_result"
    }
   ],
   "source": [
    "train_setv1.dtypes"
   ]
  },
  {
   "cell_type": "code",
   "execution_count": null,
   "metadata": {},
   "outputs": [],
   "source": [
    "train_setv1.to_csv('Trian_set_cleaned',index=False)\n",
    "test_set.to_csv('Test_set_cleaned',index=False)"
   ]
  }
 ],
 "metadata": {
  "kernelspec": {
   "display_name": "base",
   "language": "python",
   "name": "python3"
  },
  "language_info": {
   "codemirror_mode": {
    "name": "ipython",
    "version": 3
   },
   "file_extension": ".py",
   "mimetype": "text/x-python",
   "name": "python",
   "nbconvert_exporter": "python",
   "pygments_lexer": "ipython3",
   "version": "3.11.4"
  }
 },
 "nbformat": 4,
 "nbformat_minor": 2
}
