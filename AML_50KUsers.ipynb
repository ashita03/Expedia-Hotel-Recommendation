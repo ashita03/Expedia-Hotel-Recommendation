{
  "nbformat": 4,
  "nbformat_minor": 0,
  "metadata": {
    "colab": {
      "provenance": []
    },
    "kernelspec": {
      "name": "python3",
      "display_name": "Python 3"
    },
    "language_info": {
      "name": "python"
    },
    "accelerator": "TPU"
  },
  "cells": [
    {
      "cell_type": "code",
      "execution_count": null,
      "metadata": {
        "id": "oDuj_Pyf6cuD"
      },
      "outputs": [],
      "source": [
        "import pandas as pd\n",
        "import numpy as np\n",
        "\n",
        "from sklearn import svm\n",
        "from sklearn.metrics import accuracy_score, f1_score, precision_score, recall_score"
      ]
    },
    {
      "cell_type": "code",
      "source": [
        "from google.colab import drive\n",
        "drive.mount('/content/drive')"
      ],
      "metadata": {
        "colab": {
          "base_uri": "https://localhost:8080/"
        },
        "id": "3adIh54xSYzO",
        "outputId": "5e470b53-cf31-4c36-f641-4a8c59687ec9"
      },
      "execution_count": null,
      "outputs": [
        {
          "output_type": "stream",
          "name": "stdout",
          "text": [
            "Drive already mounted at /content/drive; to attempt to forcibly remount, call drive.mount(\"/content/drive\", force_remount=True).\n"
          ]
        }
      ]
    },
    {
      "cell_type": "code",
      "source": [
        "data_df = pd.read_csv('/content/drive/MyDrive/AML_project/final.csv')\n",
        "data_df.head()"
      ],
      "metadata": {
        "colab": {
          "base_uri": "https://localhost:8080/",
          "height": 255
        },
        "id": "csAzieAJ80_e",
        "outputId": "788df3ae-21a7-421e-e5ef-77f9ca0f410f"
      },
      "execution_count": null,
      "outputs": [
        {
          "output_type": "execute_result",
          "data": {
            "text/plain": [
              "   site_name  posa_continent  user_location_country  user_location_region  \\\n",
              "0          2               3                     66                   348   \n",
              "1          2               3                     66                   318   \n",
              "2         30               4                    195                   548   \n",
              "3         30               4                    195                   991   \n",
              "4          2               3                     66                   462   \n",
              "\n",
              "   user_location_city  orig_destination_distance  user_id  is_mobile  \\\n",
              "0               48862                          1       12          0   \n",
              "1               52078                          3      756          0   \n",
              "2               56440                          3     1048          0   \n",
              "3               47725                          3     1048          0   \n",
              "4               41898                          1     1482          0   \n",
              "\n",
              "   is_package  channel  ...         0         1         2         3         4  \\\n",
              "0           1        9  ...  2.168369 -0.061117  0.723259 -0.254974  0.258598   \n",
              "1           1        4  ...  1.081223 -0.472179 -0.336746  0.197516  0.078124   \n",
              "2           1        9  ...  0.354725  0.776146 -0.230059  0.319022  0.138679   \n",
              "3           0        9  ...  0.739997 -0.263293 -0.169228  0.014864 -0.019029   \n",
              "4           1        1  ...  0.653804  0.306180  0.006980 -0.212106 -0.020089   \n",
              "\n",
              "          5         6         7         8         9  \n",
              "0  0.862231  0.864002  0.177810 -0.043409 -0.065274  \n",
              "1  0.123741 -0.185023 -0.006560  0.071988 -0.086640  \n",
              "2  0.122441 -0.190630  0.179111  0.252992 -0.125460  \n",
              "3 -0.051152  0.003836  0.314507  0.090583 -0.201417  \n",
              "4  0.003922 -0.167449 -0.051248 -0.155864 -0.055948  \n",
              "\n",
              "[5 rows x 39 columns]"
            ],
            "text/html": [
              "\n",
              "  <div id=\"df-5cfa3c9e-28e0-4778-afea-6eb7b4f3568e\" class=\"colab-df-container\">\n",
              "    <div>\n",
              "<style scoped>\n",
              "    .dataframe tbody tr th:only-of-type {\n",
              "        vertical-align: middle;\n",
              "    }\n",
              "\n",
              "    .dataframe tbody tr th {\n",
              "        vertical-align: top;\n",
              "    }\n",
              "\n",
              "    .dataframe thead th {\n",
              "        text-align: right;\n",
              "    }\n",
              "</style>\n",
              "<table border=\"1\" class=\"dataframe\">\n",
              "  <thead>\n",
              "    <tr style=\"text-align: right;\">\n",
              "      <th></th>\n",
              "      <th>site_name</th>\n",
              "      <th>posa_continent</th>\n",
              "      <th>user_location_country</th>\n",
              "      <th>user_location_region</th>\n",
              "      <th>user_location_city</th>\n",
              "      <th>orig_destination_distance</th>\n",
              "      <th>user_id</th>\n",
              "      <th>is_mobile</th>\n",
              "      <th>is_package</th>\n",
              "      <th>channel</th>\n",
              "      <th>...</th>\n",
              "      <th>0</th>\n",
              "      <th>1</th>\n",
              "      <th>2</th>\n",
              "      <th>3</th>\n",
              "      <th>4</th>\n",
              "      <th>5</th>\n",
              "      <th>6</th>\n",
              "      <th>7</th>\n",
              "      <th>8</th>\n",
              "      <th>9</th>\n",
              "    </tr>\n",
              "  </thead>\n",
              "  <tbody>\n",
              "    <tr>\n",
              "      <th>0</th>\n",
              "      <td>2</td>\n",
              "      <td>3</td>\n",
              "      <td>66</td>\n",
              "      <td>348</td>\n",
              "      <td>48862</td>\n",
              "      <td>1</td>\n",
              "      <td>12</td>\n",
              "      <td>0</td>\n",
              "      <td>1</td>\n",
              "      <td>9</td>\n",
              "      <td>...</td>\n",
              "      <td>2.168369</td>\n",
              "      <td>-0.061117</td>\n",
              "      <td>0.723259</td>\n",
              "      <td>-0.254974</td>\n",
              "      <td>0.258598</td>\n",
              "      <td>0.862231</td>\n",
              "      <td>0.864002</td>\n",
              "      <td>0.177810</td>\n",
              "      <td>-0.043409</td>\n",
              "      <td>-0.065274</td>\n",
              "    </tr>\n",
              "    <tr>\n",
              "      <th>1</th>\n",
              "      <td>2</td>\n",
              "      <td>3</td>\n",
              "      <td>66</td>\n",
              "      <td>318</td>\n",
              "      <td>52078</td>\n",
              "      <td>3</td>\n",
              "      <td>756</td>\n",
              "      <td>0</td>\n",
              "      <td>1</td>\n",
              "      <td>4</td>\n",
              "      <td>...</td>\n",
              "      <td>1.081223</td>\n",
              "      <td>-0.472179</td>\n",
              "      <td>-0.336746</td>\n",
              "      <td>0.197516</td>\n",
              "      <td>0.078124</td>\n",
              "      <td>0.123741</td>\n",
              "      <td>-0.185023</td>\n",
              "      <td>-0.006560</td>\n",
              "      <td>0.071988</td>\n",
              "      <td>-0.086640</td>\n",
              "    </tr>\n",
              "    <tr>\n",
              "      <th>2</th>\n",
              "      <td>30</td>\n",
              "      <td>4</td>\n",
              "      <td>195</td>\n",
              "      <td>548</td>\n",
              "      <td>56440</td>\n",
              "      <td>3</td>\n",
              "      <td>1048</td>\n",
              "      <td>0</td>\n",
              "      <td>1</td>\n",
              "      <td>9</td>\n",
              "      <td>...</td>\n",
              "      <td>0.354725</td>\n",
              "      <td>0.776146</td>\n",
              "      <td>-0.230059</td>\n",
              "      <td>0.319022</td>\n",
              "      <td>0.138679</td>\n",
              "      <td>0.122441</td>\n",
              "      <td>-0.190630</td>\n",
              "      <td>0.179111</td>\n",
              "      <td>0.252992</td>\n",
              "      <td>-0.125460</td>\n",
              "    </tr>\n",
              "    <tr>\n",
              "      <th>3</th>\n",
              "      <td>30</td>\n",
              "      <td>4</td>\n",
              "      <td>195</td>\n",
              "      <td>991</td>\n",
              "      <td>47725</td>\n",
              "      <td>3</td>\n",
              "      <td>1048</td>\n",
              "      <td>0</td>\n",
              "      <td>0</td>\n",
              "      <td>9</td>\n",
              "      <td>...</td>\n",
              "      <td>0.739997</td>\n",
              "      <td>-0.263293</td>\n",
              "      <td>-0.169228</td>\n",
              "      <td>0.014864</td>\n",
              "      <td>-0.019029</td>\n",
              "      <td>-0.051152</td>\n",
              "      <td>0.003836</td>\n",
              "      <td>0.314507</td>\n",
              "      <td>0.090583</td>\n",
              "      <td>-0.201417</td>\n",
              "    </tr>\n",
              "    <tr>\n",
              "      <th>4</th>\n",
              "      <td>2</td>\n",
              "      <td>3</td>\n",
              "      <td>66</td>\n",
              "      <td>462</td>\n",
              "      <td>41898</td>\n",
              "      <td>1</td>\n",
              "      <td>1482</td>\n",
              "      <td>0</td>\n",
              "      <td>1</td>\n",
              "      <td>1</td>\n",
              "      <td>...</td>\n",
              "      <td>0.653804</td>\n",
              "      <td>0.306180</td>\n",
              "      <td>0.006980</td>\n",
              "      <td>-0.212106</td>\n",
              "      <td>-0.020089</td>\n",
              "      <td>0.003922</td>\n",
              "      <td>-0.167449</td>\n",
              "      <td>-0.051248</td>\n",
              "      <td>-0.155864</td>\n",
              "      <td>-0.055948</td>\n",
              "    </tr>\n",
              "  </tbody>\n",
              "</table>\n",
              "<p>5 rows × 39 columns</p>\n",
              "</div>\n",
              "    <div class=\"colab-df-buttons\">\n",
              "\n",
              "  <div class=\"colab-df-container\">\n",
              "    <button class=\"colab-df-convert\" onclick=\"convertToInteractive('df-5cfa3c9e-28e0-4778-afea-6eb7b4f3568e')\"\n",
              "            title=\"Convert this dataframe to an interactive table.\"\n",
              "            style=\"display:none;\">\n",
              "\n",
              "  <svg xmlns=\"http://www.w3.org/2000/svg\" height=\"24px\" viewBox=\"0 -960 960 960\">\n",
              "    <path d=\"M120-120v-720h720v720H120Zm60-500h600v-160H180v160Zm220 220h160v-160H400v160Zm0 220h160v-160H400v160ZM180-400h160v-160H180v160Zm440 0h160v-160H620v160ZM180-180h160v-160H180v160Zm440 0h160v-160H620v160Z\"/>\n",
              "  </svg>\n",
              "    </button>\n",
              "\n",
              "  <style>\n",
              "    .colab-df-container {\n",
              "      display:flex;\n",
              "      gap: 12px;\n",
              "    }\n",
              "\n",
              "    .colab-df-convert {\n",
              "      background-color: #E8F0FE;\n",
              "      border: none;\n",
              "      border-radius: 50%;\n",
              "      cursor: pointer;\n",
              "      display: none;\n",
              "      fill: #1967D2;\n",
              "      height: 32px;\n",
              "      padding: 0 0 0 0;\n",
              "      width: 32px;\n",
              "    }\n",
              "\n",
              "    .colab-df-convert:hover {\n",
              "      background-color: #E2EBFA;\n",
              "      box-shadow: 0px 1px 2px rgba(60, 64, 67, 0.3), 0px 1px 3px 1px rgba(60, 64, 67, 0.15);\n",
              "      fill: #174EA6;\n",
              "    }\n",
              "\n",
              "    .colab-df-buttons div {\n",
              "      margin-bottom: 4px;\n",
              "    }\n",
              "\n",
              "    [theme=dark] .colab-df-convert {\n",
              "      background-color: #3B4455;\n",
              "      fill: #D2E3FC;\n",
              "    }\n",
              "\n",
              "    [theme=dark] .colab-df-convert:hover {\n",
              "      background-color: #434B5C;\n",
              "      box-shadow: 0px 1px 3px 1px rgba(0, 0, 0, 0.15);\n",
              "      filter: drop-shadow(0px 1px 2px rgba(0, 0, 0, 0.3));\n",
              "      fill: #FFFFFF;\n",
              "    }\n",
              "  </style>\n",
              "\n",
              "    <script>\n",
              "      const buttonEl =\n",
              "        document.querySelector('#df-5cfa3c9e-28e0-4778-afea-6eb7b4f3568e button.colab-df-convert');\n",
              "      buttonEl.style.display =\n",
              "        google.colab.kernel.accessAllowed ? 'block' : 'none';\n",
              "\n",
              "      async function convertToInteractive(key) {\n",
              "        const element = document.querySelector('#df-5cfa3c9e-28e0-4778-afea-6eb7b4f3568e');\n",
              "        const dataTable =\n",
              "          await google.colab.kernel.invokeFunction('convertToInteractive',\n",
              "                                                    [key], {});\n",
              "        if (!dataTable) return;\n",
              "\n",
              "        const docLinkHtml = 'Like what you see? Visit the ' +\n",
              "          '<a target=\"_blank\" href=https://colab.research.google.com/notebooks/data_table.ipynb>data table notebook</a>'\n",
              "          + ' to learn more about interactive tables.';\n",
              "        element.innerHTML = '';\n",
              "        dataTable['output_type'] = 'display_data';\n",
              "        await google.colab.output.renderOutput(dataTable, element);\n",
              "        const docLink = document.createElement('div');\n",
              "        docLink.innerHTML = docLinkHtml;\n",
              "        element.appendChild(docLink);\n",
              "      }\n",
              "    </script>\n",
              "  </div>\n",
              "\n",
              "\n",
              "<div id=\"df-c0be0bfa-501b-47c2-9cfb-8f3275ed58df\">\n",
              "  <button class=\"colab-df-quickchart\" onclick=\"quickchart('df-c0be0bfa-501b-47c2-9cfb-8f3275ed58df')\"\n",
              "            title=\"Suggest charts\"\n",
              "            style=\"display:none;\">\n",
              "\n",
              "<svg xmlns=\"http://www.w3.org/2000/svg\" height=\"24px\"viewBox=\"0 0 24 24\"\n",
              "     width=\"24px\">\n",
              "    <g>\n",
              "        <path d=\"M19 3H5c-1.1 0-2 .9-2 2v14c0 1.1.9 2 2 2h14c1.1 0 2-.9 2-2V5c0-1.1-.9-2-2-2zM9 17H7v-7h2v7zm4 0h-2V7h2v10zm4 0h-2v-4h2v4z\"/>\n",
              "    </g>\n",
              "</svg>\n",
              "  </button>\n",
              "\n",
              "<style>\n",
              "  .colab-df-quickchart {\n",
              "      --bg-color: #E8F0FE;\n",
              "      --fill-color: #1967D2;\n",
              "      --hover-bg-color: #E2EBFA;\n",
              "      --hover-fill-color: #174EA6;\n",
              "      --disabled-fill-color: #AAA;\n",
              "      --disabled-bg-color: #DDD;\n",
              "  }\n",
              "\n",
              "  [theme=dark] .colab-df-quickchart {\n",
              "      --bg-color: #3B4455;\n",
              "      --fill-color: #D2E3FC;\n",
              "      --hover-bg-color: #434B5C;\n",
              "      --hover-fill-color: #FFFFFF;\n",
              "      --disabled-bg-color: #3B4455;\n",
              "      --disabled-fill-color: #666;\n",
              "  }\n",
              "\n",
              "  .colab-df-quickchart {\n",
              "    background-color: var(--bg-color);\n",
              "    border: none;\n",
              "    border-radius: 50%;\n",
              "    cursor: pointer;\n",
              "    display: none;\n",
              "    fill: var(--fill-color);\n",
              "    height: 32px;\n",
              "    padding: 0;\n",
              "    width: 32px;\n",
              "  }\n",
              "\n",
              "  .colab-df-quickchart:hover {\n",
              "    background-color: var(--hover-bg-color);\n",
              "    box-shadow: 0 1px 2px rgba(60, 64, 67, 0.3), 0 1px 3px 1px rgba(60, 64, 67, 0.15);\n",
              "    fill: var(--button-hover-fill-color);\n",
              "  }\n",
              "\n",
              "  .colab-df-quickchart-complete:disabled,\n",
              "  .colab-df-quickchart-complete:disabled:hover {\n",
              "    background-color: var(--disabled-bg-color);\n",
              "    fill: var(--disabled-fill-color);\n",
              "    box-shadow: none;\n",
              "  }\n",
              "\n",
              "  .colab-df-spinner {\n",
              "    border: 2px solid var(--fill-color);\n",
              "    border-color: transparent;\n",
              "    border-bottom-color: var(--fill-color);\n",
              "    animation:\n",
              "      spin 1s steps(1) infinite;\n",
              "  }\n",
              "\n",
              "  @keyframes spin {\n",
              "    0% {\n",
              "      border-color: transparent;\n",
              "      border-bottom-color: var(--fill-color);\n",
              "      border-left-color: var(--fill-color);\n",
              "    }\n",
              "    20% {\n",
              "      border-color: transparent;\n",
              "      border-left-color: var(--fill-color);\n",
              "      border-top-color: var(--fill-color);\n",
              "    }\n",
              "    30% {\n",
              "      border-color: transparent;\n",
              "      border-left-color: var(--fill-color);\n",
              "      border-top-color: var(--fill-color);\n",
              "      border-right-color: var(--fill-color);\n",
              "    }\n",
              "    40% {\n",
              "      border-color: transparent;\n",
              "      border-right-color: var(--fill-color);\n",
              "      border-top-color: var(--fill-color);\n",
              "    }\n",
              "    60% {\n",
              "      border-color: transparent;\n",
              "      border-right-color: var(--fill-color);\n",
              "    }\n",
              "    80% {\n",
              "      border-color: transparent;\n",
              "      border-right-color: var(--fill-color);\n",
              "      border-bottom-color: var(--fill-color);\n",
              "    }\n",
              "    90% {\n",
              "      border-color: transparent;\n",
              "      border-bottom-color: var(--fill-color);\n",
              "    }\n",
              "  }\n",
              "</style>\n",
              "\n",
              "  <script>\n",
              "    async function quickchart(key) {\n",
              "      const quickchartButtonEl =\n",
              "        document.querySelector('#' + key + ' button');\n",
              "      quickchartButtonEl.disabled = true;  // To prevent multiple clicks.\n",
              "      quickchartButtonEl.classList.add('colab-df-spinner');\n",
              "      try {\n",
              "        const charts = await google.colab.kernel.invokeFunction(\n",
              "            'suggestCharts', [key], {});\n",
              "      } catch (error) {\n",
              "        console.error('Error during call to suggestCharts:', error);\n",
              "      }\n",
              "      quickchartButtonEl.classList.remove('colab-df-spinner');\n",
              "      quickchartButtonEl.classList.add('colab-df-quickchart-complete');\n",
              "    }\n",
              "    (() => {\n",
              "      let quickchartButtonEl =\n",
              "        document.querySelector('#df-c0be0bfa-501b-47c2-9cfb-8f3275ed58df button');\n",
              "      quickchartButtonEl.style.display =\n",
              "        google.colab.kernel.accessAllowed ? 'block' : 'none';\n",
              "    })();\n",
              "  </script>\n",
              "</div>\n",
              "    </div>\n",
              "  </div>\n"
            ]
          },
          "metadata": {},
          "execution_count": 3
        }
      ]
    },
    {
      "cell_type": "code",
      "source": [
        "print('Length of the cleaned dataset: ', len(data_df))"
      ],
      "metadata": {
        "colab": {
          "base_uri": "https://localhost:8080/"
        },
        "id": "CLy-mbRP9D_x",
        "outputId": "d960f315-9060-46d7-cf33-bb8483f1324b"
      },
      "execution_count": null,
      "outputs": [
        {
          "output_type": "stream",
          "name": "stdout",
          "text": [
            "Length of the cleaned dataset:  2513490\n"
          ]
        }
      ]
    },
    {
      "cell_type": "code",
      "source": [
        "import random\n",
        "unique_users = data_df.user_id.unique()\n",
        "selected_id = random.sample(list(unique_users),50000)\n",
        "df = data_df[data_df.user_id.isin(selected_id)]"
      ],
      "metadata": {
        "id": "R6rWhSaJhLdN"
      },
      "execution_count": null,
      "outputs": []
    },
    {
      "cell_type": "code",
      "source": [
        "print('Length of the cleaned dataset for random 50,000 users: ', len(df))"
      ],
      "metadata": {
        "colab": {
          "base_uri": "https://localhost:8080/"
        },
        "id": "r2VWbTONhZ89",
        "outputId": "44c9fd1c-d95e-4f96-af6e-43887e292439"
      },
      "execution_count": null,
      "outputs": [
        {
          "output_type": "stream",
          "name": "stdout",
          "text": [
            "Length of the cleaned dataset for random 50,000 users:  156452\n"
          ]
        }
      ]
    },
    {
      "cell_type": "code",
      "source": [
        "X = df.drop(['hotel_cluster'], axis=1)\n",
        "y = df['hotel_cluster']"
      ],
      "metadata": {
        "id": "Ki3NyGldCd0n"
      },
      "execution_count": null,
      "outputs": []
    },
    {
      "cell_type": "code",
      "source": [
        "from sklearn.model_selection import train_test_split\n",
        "\n",
        "X_train, X_test, y_train, y_test = train_test_split(X, y, test_size = 0.2, random_state = 1)"
      ],
      "metadata": {
        "id": "3Pg-5v4F9LGk"
      },
      "execution_count": null,
      "outputs": []
    },
    {
      "cell_type": "code",
      "source": [
        "from sklearn import svm\n",
        "\n",
        "clf = svm.SVC(kernel='rbf')\n",
        "#Train the model using the training sets\n",
        "clf.fit(X_train, y_train)\n",
        "\n",
        "#Predict the response for test dataset\n",
        "y_pred = clf.predict(X_test)"
      ],
      "metadata": {
        "id": "kOhnLP2uCscr"
      },
      "execution_count": null,
      "outputs": []
    },
    {
      "cell_type": "code",
      "source": [
        "print(\"Accuracy:\", accuracy_score(y_test, y_pred))\n",
        "print(\"Precision:\",precision_score(y_test, y_pred, average='weighted'))\n",
        "print(\"Recall:\",recall_score(y_test, y_pred,  average='weighted'))\n",
        "print(\"F1:\",f1_score(y_test, y_pred,  average='weighted'))"
      ],
      "metadata": {
        "id": "19tLX0BGC_u9",
        "colab": {
          "base_uri": "https://localhost:8080/"
        },
        "outputId": "424ef912-3164-4087-8b58-c840e7042e93"
      },
      "execution_count": null,
      "outputs": [
        {
          "output_type": "stream",
          "name": "stdout",
          "text": [
            "Accuracy: 0.03914863698827139\n",
            "Precision: 0.0015326157780394506\n",
            "Recall: 0.03914863698827139\n",
            "F1: 0.002949752756220473\n"
          ]
        },
        {
          "output_type": "stream",
          "name": "stderr",
          "text": [
            "/usr/local/lib/python3.10/dist-packages/sklearn/metrics/_classification.py:1344: UndefinedMetricWarning: Precision is ill-defined and being set to 0.0 in labels with no predicted samples. Use `zero_division` parameter to control this behavior.\n",
            "  _warn_prf(average, modifier, msg_start, len(result))\n"
          ]
        }
      ]
    },
    {
      "cell_type": "code",
      "source": [
        "from sklearn.ensemble import RandomForestClassifier\n",
        "\n",
        "clf = RandomForestClassifier(n_estimators=80)\n",
        "clf.fit(X_train, y_train)\n",
        "\n",
        "y_pred=clf.predict(X_test)"
      ],
      "metadata": {
        "id": "o9J4QSJ3JdD0"
      },
      "execution_count": null,
      "outputs": []
    },
    {
      "cell_type": "code",
      "source": [
        "print(\"Accuracy:\", accuracy_score(y_test, y_pred))\n",
        "print(\"F1:\", f1_score(y_test, y_pred, average='weighted'))\n",
        "\n",
        "print(\"Precision:\",precision_score(y_test, y_pred, average='weighted'))\n",
        "print(\"Recall:\",recall_score(y_test, y_pred,  average='weighted'))"
      ],
      "metadata": {
        "colab": {
          "base_uri": "https://localhost:8080/"
        },
        "id": "cgUapEwvOog-",
        "outputId": "bd89e21b-1c0a-4f23-8d02-8edf97ccbc1f"
      },
      "execution_count": null,
      "outputs": [
        {
          "output_type": "stream",
          "name": "stdout",
          "text": [
            "Accuracy: 0.2247291553481832\n",
            "F1: 0.21749232109727898\n",
            "Precision: 0.2220748428297822\n",
            "Recall: 0.2247291553481832\n"
          ]
        }
      ]
    },
    {
      "cell_type": "code",
      "source": [],
      "metadata": {
        "id": "C2X8pmS8PNb1"
      },
      "execution_count": null,
      "outputs": []
    }
  ]
}