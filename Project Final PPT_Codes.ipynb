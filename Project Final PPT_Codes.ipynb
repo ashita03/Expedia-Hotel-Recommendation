{
 "cells": [
  {
   "cell_type": "markdown",
   "id": "a323d62c",
   "metadata": {},
   "source": [
    "# Expedia Hotel Recommendation System\n",
    "***\n",
    "## Datasets-\n",
    "#### 1. Train dataset- Click and booking events from 2013 to 2014.\n",
    "#### 2. Test dataset- Booking events in 2015.\n",
    "#### 3. Destinations- Features extracted from hotel reviews text. "
   ]
  },
  {
   "cell_type": "markdown",
   "id": "47ef4457",
   "metadata": {},
   "source": [
    "## Data pre-processing and Analysis\n",
    "***\n",
    "### 1. Load the datasets:"
   ]
  },
  {
   "cell_type": "code",
   "execution_count": 1,
   "id": "d790c574",
   "metadata": {
    "tags": []
   },
   "outputs": [],
   "source": [
    "import pandas as pd \n",
    "import numpy as np \n",
    "\n",
    "path_in1='F:/AML/Project/expedia-hotel-recommendations/train.csv' \n",
    "path_in2='F:/AML/Project/expedia-hotel-recommendations/test.csv'\n",
    "path_in3='F:/AML/Project/expedia-hotel-recommendations/destinations.csv'\n",
    "\n",
    "train_set=pd.read_csv(path_in1,nrows=3000000) #limiting no. of rows to avoid memory issues\n",
    "test_set=pd.read_csv(path_in2)\n",
    "destinations=pd.read_csv(path_in3)"
   ]
  },
  {
   "cell_type": "markdown",
   "id": "fe69b8ab",
   "metadata": {},
   "source": [
    "### 2. Data Cleaning and Analysis:\n",
    "#### Checking the train dataset - "
   ]
  },
  {
   "cell_type": "code",
   "execution_count": 2,
   "id": "5592b066",
   "metadata": {
    "tags": []
   },
   "outputs": [
    {
     "data": {
      "text/plain": [
       "(3000000, 24)"
      ]
     },
     "execution_count": 2,
     "metadata": {},
     "output_type": "execute_result"
    }
   ],
   "source": [
    "train_set.shape"
   ]
  },
  {
   "cell_type": "code",
   "execution_count": 3,
   "id": "7da47889",
   "metadata": {
    "tags": []
   },
   "outputs": [
    {
     "data": {
      "text/html": [
       "<div>\n",
       "<style scoped>\n",
       "    .dataframe tbody tr th:only-of-type {\n",
       "        vertical-align: middle;\n",
       "    }\n",
       "\n",
       "    .dataframe tbody tr th {\n",
       "        vertical-align: top;\n",
       "    }\n",
       "\n",
       "    .dataframe thead th {\n",
       "        text-align: right;\n",
       "    }\n",
       "</style>\n",
       "<table border=\"1\" class=\"dataframe\">\n",
       "  <thead>\n",
       "    <tr style=\"text-align: right;\">\n",
       "      <th></th>\n",
       "      <th>date_time</th>\n",
       "      <th>site_name</th>\n",
       "      <th>posa_continent</th>\n",
       "      <th>user_location_country</th>\n",
       "      <th>user_location_region</th>\n",
       "      <th>user_location_city</th>\n",
       "      <th>orig_destination_distance</th>\n",
       "      <th>user_id</th>\n",
       "      <th>is_mobile</th>\n",
       "      <th>is_package</th>\n",
       "      <th>...</th>\n",
       "      <th>srch_children_cnt</th>\n",
       "      <th>srch_rm_cnt</th>\n",
       "      <th>srch_destination_id</th>\n",
       "      <th>srch_destination_type_id</th>\n",
       "      <th>is_booking</th>\n",
       "      <th>cnt</th>\n",
       "      <th>hotel_continent</th>\n",
       "      <th>hotel_country</th>\n",
       "      <th>hotel_market</th>\n",
       "      <th>hotel_cluster</th>\n",
       "    </tr>\n",
       "  </thead>\n",
       "  <tbody>\n",
       "    <tr>\n",
       "      <th>0</th>\n",
       "      <td>2014-08-11 07:46:59</td>\n",
       "      <td>2</td>\n",
       "      <td>3</td>\n",
       "      <td>66</td>\n",
       "      <td>348</td>\n",
       "      <td>48862</td>\n",
       "      <td>2234.2641</td>\n",
       "      <td>12</td>\n",
       "      <td>0</td>\n",
       "      <td>1</td>\n",
       "      <td>...</td>\n",
       "      <td>0</td>\n",
       "      <td>1</td>\n",
       "      <td>8250</td>\n",
       "      <td>1</td>\n",
       "      <td>0</td>\n",
       "      <td>3</td>\n",
       "      <td>2</td>\n",
       "      <td>50</td>\n",
       "      <td>628</td>\n",
       "      <td>1</td>\n",
       "    </tr>\n",
       "    <tr>\n",
       "      <th>1</th>\n",
       "      <td>2014-08-11 08:22:12</td>\n",
       "      <td>2</td>\n",
       "      <td>3</td>\n",
       "      <td>66</td>\n",
       "      <td>348</td>\n",
       "      <td>48862</td>\n",
       "      <td>2234.2641</td>\n",
       "      <td>12</td>\n",
       "      <td>0</td>\n",
       "      <td>1</td>\n",
       "      <td>...</td>\n",
       "      <td>0</td>\n",
       "      <td>1</td>\n",
       "      <td>8250</td>\n",
       "      <td>1</td>\n",
       "      <td>1</td>\n",
       "      <td>1</td>\n",
       "      <td>2</td>\n",
       "      <td>50</td>\n",
       "      <td>628</td>\n",
       "      <td>1</td>\n",
       "    </tr>\n",
       "    <tr>\n",
       "      <th>2</th>\n",
       "      <td>2014-08-11 08:24:33</td>\n",
       "      <td>2</td>\n",
       "      <td>3</td>\n",
       "      <td>66</td>\n",
       "      <td>348</td>\n",
       "      <td>48862</td>\n",
       "      <td>2234.2641</td>\n",
       "      <td>12</td>\n",
       "      <td>0</td>\n",
       "      <td>0</td>\n",
       "      <td>...</td>\n",
       "      <td>0</td>\n",
       "      <td>1</td>\n",
       "      <td>8250</td>\n",
       "      <td>1</td>\n",
       "      <td>0</td>\n",
       "      <td>1</td>\n",
       "      <td>2</td>\n",
       "      <td>50</td>\n",
       "      <td>628</td>\n",
       "      <td>1</td>\n",
       "    </tr>\n",
       "    <tr>\n",
       "      <th>3</th>\n",
       "      <td>2014-08-09 18:05:16</td>\n",
       "      <td>2</td>\n",
       "      <td>3</td>\n",
       "      <td>66</td>\n",
       "      <td>442</td>\n",
       "      <td>35390</td>\n",
       "      <td>913.1932</td>\n",
       "      <td>93</td>\n",
       "      <td>0</td>\n",
       "      <td>0</td>\n",
       "      <td>...</td>\n",
       "      <td>0</td>\n",
       "      <td>1</td>\n",
       "      <td>14984</td>\n",
       "      <td>1</td>\n",
       "      <td>0</td>\n",
       "      <td>1</td>\n",
       "      <td>2</td>\n",
       "      <td>50</td>\n",
       "      <td>1457</td>\n",
       "      <td>80</td>\n",
       "    </tr>\n",
       "    <tr>\n",
       "      <th>4</th>\n",
       "      <td>2014-08-09 18:08:18</td>\n",
       "      <td>2</td>\n",
       "      <td>3</td>\n",
       "      <td>66</td>\n",
       "      <td>442</td>\n",
       "      <td>35390</td>\n",
       "      <td>913.6259</td>\n",
       "      <td>93</td>\n",
       "      <td>0</td>\n",
       "      <td>0</td>\n",
       "      <td>...</td>\n",
       "      <td>0</td>\n",
       "      <td>1</td>\n",
       "      <td>14984</td>\n",
       "      <td>1</td>\n",
       "      <td>0</td>\n",
       "      <td>1</td>\n",
       "      <td>2</td>\n",
       "      <td>50</td>\n",
       "      <td>1457</td>\n",
       "      <td>21</td>\n",
       "    </tr>\n",
       "  </tbody>\n",
       "</table>\n",
       "<p>5 rows × 24 columns</p>\n",
       "</div>"
      ],
      "text/plain": [
       "             date_time  site_name  posa_continent  user_location_country  \\\n",
       "0  2014-08-11 07:46:59          2               3                     66   \n",
       "1  2014-08-11 08:22:12          2               3                     66   \n",
       "2  2014-08-11 08:24:33          2               3                     66   \n",
       "3  2014-08-09 18:05:16          2               3                     66   \n",
       "4  2014-08-09 18:08:18          2               3                     66   \n",
       "\n",
       "   user_location_region  user_location_city  orig_destination_distance  \\\n",
       "0                   348               48862                  2234.2641   \n",
       "1                   348               48862                  2234.2641   \n",
       "2                   348               48862                  2234.2641   \n",
       "3                   442               35390                   913.1932   \n",
       "4                   442               35390                   913.6259   \n",
       "\n",
       "   user_id  is_mobile  is_package  ...  srch_children_cnt srch_rm_cnt  \\\n",
       "0       12          0           1  ...                  0           1   \n",
       "1       12          0           1  ...                  0           1   \n",
       "2       12          0           0  ...                  0           1   \n",
       "3       93          0           0  ...                  0           1   \n",
       "4       93          0           0  ...                  0           1   \n",
       "\n",
       "  srch_destination_id  srch_destination_type_id  is_booking  cnt  \\\n",
       "0                8250                         1           0    3   \n",
       "1                8250                         1           1    1   \n",
       "2                8250                         1           0    1   \n",
       "3               14984                         1           0    1   \n",
       "4               14984                         1           0    1   \n",
       "\n",
       "   hotel_continent  hotel_country  hotel_market  hotel_cluster  \n",
       "0                2             50           628              1  \n",
       "1                2             50           628              1  \n",
       "2                2             50           628              1  \n",
       "3                2             50          1457             80  \n",
       "4                2             50          1457             21  \n",
       "\n",
       "[5 rows x 24 columns]"
      ]
     },
     "execution_count": 3,
     "metadata": {},
     "output_type": "execute_result"
    }
   ],
   "source": [
    "train_set.head()"
   ]
  },
  {
   "cell_type": "code",
   "execution_count": 4,
   "id": "20e2e41b",
   "metadata": {
    "tags": []
   },
   "outputs": [
    {
     "data": {
      "text/plain": [
       "date_time                     object\n",
       "site_name                      int64\n",
       "posa_continent                 int64\n",
       "user_location_country          int64\n",
       "user_location_region           int64\n",
       "user_location_city             int64\n",
       "orig_destination_distance    float64\n",
       "user_id                        int64\n",
       "is_mobile                      int64\n",
       "is_package                     int64\n",
       "channel                        int64\n",
       "srch_ci                       object\n",
       "srch_co                       object\n",
       "srch_adults_cnt                int64\n",
       "srch_children_cnt              int64\n",
       "srch_rm_cnt                    int64\n",
       "srch_destination_id            int64\n",
       "srch_destination_type_id       int64\n",
       "is_booking                     int64\n",
       "cnt                            int64\n",
       "hotel_continent                int64\n",
       "hotel_country                  int64\n",
       "hotel_market                   int64\n",
       "hotel_cluster                  int64\n",
       "dtype: object"
      ]
     },
     "execution_count": 4,
     "metadata": {},
     "output_type": "execute_result"
    }
   ],
   "source": [
    "train_set.dtypes"
   ]
  },
  {
   "cell_type": "markdown",
   "id": "294f28c5",
   "metadata": {},
   "source": [
    "#### Check the unique values in \"is_booking\" column. This column gives information on whether an event is a click or booking event."
   ]
  },
  {
   "cell_type": "code",
   "execution_count": 5,
   "id": "a2560fbf",
   "metadata": {
    "tags": []
   },
   "outputs": [
    {
     "data": {
      "text/plain": [
       "0    2757051\n",
       "1     242949\n",
       "Name: is_booking, dtype: int64"
      ]
     },
     "execution_count": 5,
     "metadata": {},
     "output_type": "execute_result"
    }
   ],
   "source": [
    "train_set[\"is_booking\"].value_counts()"
   ]
  },
  {
   "cell_type": "markdown",
   "id": "4f3ff328",
   "metadata": {
    "tags": []
   },
   "source": [
    "#### Since the test data has only booking events, we can filter out our data removing click events."
   ]
  },
  {
   "cell_type": "code",
   "execution_count": 6,
   "id": "066c9cfb",
   "metadata": {
    "tags": []
   },
   "outputs": [
    {
     "data": {
      "text/plain": [
       "1    242949\n",
       "Name: is_booking, dtype: int64"
      ]
     },
     "execution_count": 6,
     "metadata": {},
     "output_type": "execute_result"
    }
   ],
   "source": [
    "train_set=train_set[train_set[\"is_booking\"]==1]\n",
    "train_set[\"is_booking\"].value_counts()"
   ]
  },
  {
   "cell_type": "markdown",
   "id": "d7ba2a4f-403b-4aab-ae23-fe0e74ea6fe0",
   "metadata": {
    "tags": []
   },
   "source": [
    "#### Let us check if all the user IDs in test dataset are present in train dataset. This will help us understand how much of our test data is without any history. This will help us understand our accuracy score better."
   ]
  },
  {
   "cell_type": "code",
   "execution_count": 7,
   "id": "40008c05-5b71-4cd4-a946-31637261fb07",
   "metadata": {
    "tags": []
   },
   "outputs": [
    {
     "name": "stdout",
     "output_type": "stream",
     "text": [
      "1181577\n"
     ]
    }
   ],
   "source": [
    "test_ids = set(test_set.user_id.unique())\n",
    "print(len(test_ids))"
   ]
  },
  {
   "cell_type": "code",
   "execution_count": 8,
   "id": "15eb0e73-4d3e-4d1a-baf8-b5b6104b31fc",
   "metadata": {
    "tags": []
   },
   "outputs": [
    {
     "name": "stdout",
     "output_type": "stream",
     "text": [
      "65216\n"
     ]
    }
   ],
   "source": [
    "train_ids = set(train_set.user_id.unique())\n",
    "print(len(train_ids))"
   ]
  },
  {
   "cell_type": "code",
   "execution_count": 9,
   "id": "406c18f4-1d49-44a4-8e6d-b0b381fb1321",
   "metadata": {
    "tags": []
   },
   "outputs": [
    {
     "data": {
      "text/plain": [
       "64322"
      ]
     },
     "execution_count": 9,
     "metadata": {},
     "output_type": "execute_result"
    }
   ],
   "source": [
    "intersection_count = len(test_ids & train_ids)\n",
    "intersection_count"
   ]
  },
  {
   "cell_type": "markdown",
   "id": "47508692-1d1f-400e-8ac3-2e3b7254358b",
   "metadata": {},
   "source": [
    "#### From the counts above, we can see that almost all test IDs are present in the train dataset. We will now downsize the data by selecting 10000 unique user ids from train dataset and selecting the same users from test dataset as well."
   ]
  },
  {
   "cell_type": "code",
   "execution_count": 10,
   "id": "ad1c68b3-9ee6-40db-a14e-5010f529ffb3",
   "metadata": {
    "tags": []
   },
   "outputs": [],
   "source": [
    "import random\n",
    "unique_users = train_set.user_id.unique()\n",
    "selected_id = random.sample(list(unique_users),10000)\n",
    "train_set_v1 = train_set[train_set.user_id.isin(selected_id)]"
   ]
  },
  {
   "cell_type": "code",
   "execution_count": 11,
   "id": "f252f99b-509c-47c3-81c6-93c5d78a86a5",
   "metadata": {
    "tags": []
   },
   "outputs": [
    {
     "data": {
      "text/plain": [
       "382953     97\n",
       "254104     96\n",
       "648512     87\n",
       "628845     85\n",
       "1082468    77\n",
       "           ..\n",
       "931370      1\n",
       "528071      1\n",
       "930671      1\n",
       "930616      1\n",
       "1100209     1\n",
       "Name: user_id, Length: 10000, dtype: int64"
      ]
     },
     "execution_count": 11,
     "metadata": {},
     "output_type": "execute_result"
    }
   ],
   "source": [
    "train_set_v1['user_id'].value_counts()"
   ]
  },
  {
   "cell_type": "code",
   "execution_count": 12,
   "id": "335d3a09-e4cf-44d5-857b-d0185bdd2948",
   "metadata": {
    "tags": []
   },
   "outputs": [
    {
     "data": {
      "text/plain": [
       "(36982, 24)"
      ]
     },
     "execution_count": 12,
     "metadata": {},
     "output_type": "execute_result"
    }
   ],
   "source": [
    "train_set_v1.shape"
   ]
  },
  {
   "cell_type": "markdown",
   "id": "313f46a4-7b95-417f-b04f-201d2552e68c",
   "metadata": {},
   "source": [
    "#### Now let us select the test data for these user IDs."
   ]
  },
  {
   "cell_type": "code",
   "execution_count": 13,
   "id": "4016b7e5-bcf7-4d22-90bf-2be16d5efadf",
   "metadata": {
    "tags": []
   },
   "outputs": [],
   "source": [
    "test_set_v1=test_set[test_set.user_id.isin(selected_id)]"
   ]
  },
  {
   "cell_type": "code",
   "execution_count": 14,
   "id": "61961b5a-3493-4d33-a0f7-1273e94eebe8",
   "metadata": {
    "tags": []
   },
   "outputs": [
    {
     "data": {
      "text/plain": [
       "(23900, 22)"
      ]
     },
     "execution_count": 14,
     "metadata": {},
     "output_type": "execute_result"
    }
   ],
   "source": [
    "test_set_v1.shape"
   ]
  },
  {
   "cell_type": "markdown",
   "id": "d4f038e9",
   "metadata": {},
   "source": [
    "### 3. Feature Engineering:\n",
    "#### Find out the null values-"
   ]
  },
  {
   "cell_type": "code",
   "execution_count": 15,
   "id": "70d0d090",
   "metadata": {
    "tags": []
   },
   "outputs": [
    {
     "data": {
      "text/plain": [
       "date_time                        0\n",
       "site_name                        0\n",
       "posa_continent                   0\n",
       "user_location_country            0\n",
       "user_location_region             0\n",
       "user_location_city               0\n",
       "orig_destination_distance    12835\n",
       "user_id                          0\n",
       "is_mobile                        0\n",
       "is_package                       0\n",
       "channel                          0\n",
       "srch_ci                          0\n",
       "srch_co                          0\n",
       "srch_adults_cnt                  0\n",
       "srch_children_cnt                0\n",
       "srch_rm_cnt                      0\n",
       "srch_destination_id              0\n",
       "srch_destination_type_id         0\n",
       "is_booking                       0\n",
       "cnt                              0\n",
       "hotel_continent                  0\n",
       "hotel_country                    0\n",
       "hotel_market                     0\n",
       "hotel_cluster                    0\n",
       "dtype: int64"
      ]
     },
     "execution_count": 15,
     "metadata": {},
     "output_type": "execute_result"
    }
   ],
   "source": [
    "train_set_v1.isna().sum()"
   ]
  },
  {
   "cell_type": "code",
   "execution_count": 16,
   "id": "bfd56287",
   "metadata": {},
   "outputs": [
    {
     "data": {
      "text/plain": [
       "158              NaN\n",
       "268              NaN\n",
       "276              NaN\n",
       "306              NaN\n",
       "331              NaN\n",
       "             ...    \n",
       "2999752          NaN\n",
       "2999754          NaN\n",
       "2999930    1100.5251\n",
       "2999935    1500.2372\n",
       "2999937    1500.2372\n",
       "Name: orig_destination_distance, Length: 36982, dtype: float64"
      ]
     },
     "execution_count": 16,
     "metadata": {},
     "output_type": "execute_result"
    }
   ],
   "source": [
    "train_set_v1.orig_destination_distance"
   ]
  },
  {
   "cell_type": "code",
   "execution_count": 17,
   "id": "cace96c0",
   "metadata": {},
   "outputs": [
    {
     "data": {
      "text/plain": [
       "<Axes: ylabel='Density'>"
      ]
     },
     "execution_count": 17,
     "metadata": {},
     "output_type": "execute_result"
    },
    {
     "data": {
      "image/png": "[encoded data removed]",
      "text/plain": [
       "<Figure size 640x480 with 1 Axes>"
      ]
     },
     "metadata": {},
     "output_type": "display_data"
    }
   ],
   "source": [
    "train_set_v1['orig_destination_distance'].plot(kind='kde')"
   ]
  },
  {
   "cell_type": "markdown",
   "id": "7ecc9d15",
   "metadata": {},
   "source": [
    "#### To remove the null values-\n",
    "#### We will update 'orig_destination_distance' with categories VERY_CLOSE,CLOSE,FAR,VERY_FAR."
   ]
  },
  {
   "cell_type": "code",
   "execution_count": 18,
   "id": "7e636491",
   "metadata": {},
   "outputs": [
    {
     "name": "stdout",
     "output_type": "stream",
     "text": [
      "Discretizing origin_destination_distance column\n"
     ]
    },
    {
     "name": "stderr",
     "output_type": "stream",
     "text": [
      "C:\\Users\\User-\\AppData\\Local\\Temp\\ipykernel_14216\\3712480703.py:12: SettingWithCopyWarning: \n",
      "A value is trying to be set on a copy of a slice from a DataFrame.\n",
      "Try using .loc[row_indexer,col_indexer] = value instead\n",
      "\n",
      "See the caveats in the documentation: https://pandas.pydata.org/pandas-docs/stable/user_guide/indexing.html#returning-a-view-versus-a-copy\n",
      "  train_set_v1.orig_destination_distance = train_set_v1.orig_destination_distance.apply(lambda x: tag_distance(x))\n"
     ]
    }
   ],
   "source": [
    "def tag_distance(x):\n",
    "    if x < 500:\n",
    "        return 'VERY_CLOSE'\n",
    "    elif x >=500 and x < 2000:\n",
    "        return 'CLOSE'\n",
    "    elif x >=2000 and x < 6000:\n",
    "        return 'FAR'\n",
    "    else:\n",
    "        return 'VERY_FAR'\n",
    "# work on origin_destination_distance\n",
    "print('Discretizing origin_destination_distance column')\n",
    "train_set_v1.orig_destination_distance = train_set_v1.orig_destination_distance.apply(lambda x: tag_distance(x))"
   ]
  },
  {
   "cell_type": "code",
   "execution_count": 19,
   "id": "2f002d28",
   "metadata": {},
   "outputs": [
    {
     "data": {
      "text/plain": [
       "date_time                    0\n",
       "site_name                    0\n",
       "posa_continent               0\n",
       "user_location_country        0\n",
       "user_location_region         0\n",
       "user_location_city           0\n",
       "orig_destination_distance    0\n",
       "user_id                      0\n",
       "is_mobile                    0\n",
       "is_package                   0\n",
       "channel                      0\n",
       "srch_ci                      0\n",
       "srch_co                      0\n",
       "srch_adults_cnt              0\n",
       "srch_children_cnt            0\n",
       "srch_rm_cnt                  0\n",
       "srch_destination_id          0\n",
       "srch_destination_type_id     0\n",
       "is_booking                   0\n",
       "cnt                          0\n",
       "hotel_continent              0\n",
       "hotel_country                0\n",
       "hotel_market                 0\n",
       "hotel_cluster                0\n",
       "dtype: int64"
      ]
     },
     "execution_count": 19,
     "metadata": {},
     "output_type": "execute_result"
    }
   ],
   "source": [
    "train_set_v1.isna().sum()"
   ]
  },
  {
   "cell_type": "markdown",
   "id": "215a359b",
   "metadata": {},
   "source": [
    "#### Update date columns datatype and add new columns: "
   ]
  },
  {
   "cell_type": "code",
   "execution_count": 20,
   "id": "dcf9bb9b",
   "metadata": {},
   "outputs": [
    {
     "name": "stderr",
     "output_type": "stream",
     "text": [
      "C:\\Users\\User-\\AppData\\Local\\Temp\\ipykernel_14216\\3505105627.py:1: SettingWithCopyWarning: \n",
      "A value is trying to be set on a copy of a slice from a DataFrame.\n",
      "Try using .loc[row_indexer,col_indexer] = value instead\n",
      "\n",
      "See the caveats in the documentation: https://pandas.pydata.org/pandas-docs/stable/user_guide/indexing.html#returning-a-view-versus-a-copy\n",
      "  train_set_v1['srch_ci'] = pd.to_datetime(train_set_v1['srch_ci'])\n",
      "C:\\Users\\User-\\AppData\\Local\\Temp\\ipykernel_14216\\3505105627.py:2: SettingWithCopyWarning: \n",
      "A value is trying to be set on a copy of a slice from a DataFrame.\n",
      "Try using .loc[row_indexer,col_indexer] = value instead\n",
      "\n",
      "See the caveats in the documentation: https://pandas.pydata.org/pandas-docs/stable/user_guide/indexing.html#returning-a-view-versus-a-copy\n",
      "  train_set_v1['srch_co'] = pd.to_datetime(train_set_v1['srch_co'])\n",
      "C:\\Users\\User-\\AppData\\Local\\Temp\\ipykernel_14216\\3505105627.py:3: SettingWithCopyWarning: \n",
      "A value is trying to be set on a copy of a slice from a DataFrame.\n",
      "Try using .loc[row_indexer,col_indexer] = value instead\n",
      "\n",
      "See the caveats in the documentation: https://pandas.pydata.org/pandas-docs/stable/user_guide/indexing.html#returning-a-view-versus-a-copy\n",
      "  train_set_v1['date_time'] = pd.to_datetime(train_set_v1['date_time'])\n",
      "C:\\Users\\User-\\AppData\\Local\\Temp\\ipykernel_14216\\3505105627.py:4: SettingWithCopyWarning: \n",
      "A value is trying to be set on a copy of a slice from a DataFrame.\n",
      "Try using .loc[row_indexer,col_indexer] = value instead\n",
      "\n",
      "See the caveats in the documentation: https://pandas.pydata.org/pandas-docs/stable/user_guide/indexing.html#returning-a-view-versus-a-copy\n",
      "  train_set_v1['stay_dur'] = (train_set_v1['srch_co'] - train_set_v1['srch_ci']).astype('timedelta64[D]')\n"
     ]
    }
   ],
   "source": [
    "train_set_v1['srch_ci'] = pd.to_datetime(train_set_v1['srch_ci'])\n",
    "train_set_v1['srch_co'] = pd.to_datetime(train_set_v1['srch_co'])\n",
    "train_set_v1['date_time'] = pd.to_datetime(train_set_v1['date_time'])\n",
    "train_set_v1['stay_dur'] = (train_set_v1['srch_co'] - train_set_v1['srch_ci']).astype('timedelta64[D]')"
   ]
  },
  {
   "cell_type": "code",
   "execution_count": 21,
   "id": "e54a286f",
   "metadata": {
    "scrolled": true
   },
   "outputs": [
    {
     "name": "stderr",
     "output_type": "stream",
     "text": [
      "C:\\Users\\User-\\AppData\\Local\\Temp\\ipykernel_14216\\2621576082.py:1: SettingWithCopyWarning: \n",
      "A value is trying to be set on a copy of a slice from a DataFrame.\n",
      "Try using .loc[row_indexer,col_indexer] = value instead\n",
      "\n",
      "See the caveats in the documentation: https://pandas.pydata.org/pandas-docs/stable/user_guide/indexing.html#returning-a-view-versus-a-copy\n",
      "  train_set_v1['no_of_days_before_booking'] = (train_set_v1['srch_ci'] - train_set_v1['date_time']).astype('timedelta64[D]')\n",
      "C:\\Users\\User-\\AppData\\Local\\Temp\\ipykernel_14216\\2621576082.py:2: SettingWithCopyWarning: \n",
      "A value is trying to be set on a copy of a slice from a DataFrame.\n",
      "Try using .loc[row_indexer,col_indexer] = value instead\n",
      "\n",
      "See the caveats in the documentation: https://pandas.pydata.org/pandas-docs/stable/user_guide/indexing.html#returning-a-view-versus-a-copy\n",
      "  train_set_v1['current_mon'] = train_set_v1['date_time'].dt.month\n",
      "C:\\Users\\User-\\AppData\\Local\\Temp\\ipykernel_14216\\2621576082.py:3: SettingWithCopyWarning: \n",
      "A value is trying to be set on a copy of a slice from a DataFrame.\n",
      "Try using .loc[row_indexer,col_indexer] = value instead\n",
      "\n",
      "See the caveats in the documentation: https://pandas.pydata.org/pandas-docs/stable/user_guide/indexing.html#returning-a-view-versus-a-copy\n",
      "  train_set_v1['current_year'] = train_set_v1['date_time'].dt.year\n",
      "C:\\Users\\User-\\AppData\\Local\\Temp\\ipykernel_14216\\2621576082.py:4: SettingWithCopyWarning: \n",
      "A value is trying to be set on a copy of a slice from a DataFrame.\n",
      "Try using .loc[row_indexer,col_indexer] = value instead\n",
      "\n",
      "See the caveats in the documentation: https://pandas.pydata.org/pandas-docs/stable/user_guide/indexing.html#returning-a-view-versus-a-copy\n",
      "  train_set_v1['srch_ci_day'] = train_set_v1['srch_ci'].dt.day\n",
      "C:\\Users\\User-\\AppData\\Local\\Temp\\ipykernel_14216\\2621576082.py:5: SettingWithCopyWarning: \n",
      "A value is trying to be set on a copy of a slice from a DataFrame.\n",
      "Try using .loc[row_indexer,col_indexer] = value instead\n",
      "\n",
      "See the caveats in the documentation: https://pandas.pydata.org/pandas-docs/stable/user_guide/indexing.html#returning-a-view-versus-a-copy\n",
      "  train_set_v1['srch_ci_mon'] = train_set_v1['srch_ci'].dt.month\n",
      "C:\\Users\\User-\\AppData\\Local\\Temp\\ipykernel_14216\\2621576082.py:6: SettingWithCopyWarning: \n",
      "A value is trying to be set on a copy of a slice from a DataFrame.\n",
      "Try using .loc[row_indexer,col_indexer] = value instead\n",
      "\n",
      "See the caveats in the documentation: https://pandas.pydata.org/pandas-docs/stable/user_guide/indexing.html#returning-a-view-versus-a-copy\n",
      "  train_set_v1['srch_ci_year'] = train_set_v1['srch_ci'].dt.year\n",
      "C:\\Users\\User-\\AppData\\Local\\Temp\\ipykernel_14216\\2621576082.py:7: SettingWithCopyWarning: \n",
      "A value is trying to be set on a copy of a slice from a DataFrame.\n",
      "Try using .loc[row_indexer,col_indexer] = value instead\n",
      "\n",
      "See the caveats in the documentation: https://pandas.pydata.org/pandas-docs/stable/user_guide/indexing.html#returning-a-view-versus-a-copy\n",
      "  train_set_v1['srch_co_mon'] = train_set_v1['srch_co'].dt.month\n",
      "C:\\Users\\User-\\AppData\\Local\\Temp\\ipykernel_14216\\2621576082.py:8: SettingWithCopyWarning: \n",
      "A value is trying to be set on a copy of a slice from a DataFrame.\n",
      "Try using .loc[row_indexer,col_indexer] = value instead\n",
      "\n",
      "See the caveats in the documentation: https://pandas.pydata.org/pandas-docs/stable/user_guide/indexing.html#returning-a-view-versus-a-copy\n",
      "  train_set_v1['srch_co_year'] = train_set_v1['srch_co'].dt.year\n"
     ]
    }
   ],
   "source": [
    "train_set_v1['no_of_days_before_booking'] = (train_set_v1['srch_ci'] - train_set_v1['date_time']).astype('timedelta64[D]')\n",
    "train_set_v1['current_mon'] = train_set_v1['date_time'].dt.month\n",
    "train_set_v1['current_year'] = train_set_v1['date_time'].dt.year\n",
    "train_set_v1['srch_ci_day'] = train_set_v1['srch_ci'].dt.day\n",
    "train_set_v1['srch_ci_mon'] = train_set_v1['srch_ci'].dt.month\n",
    "train_set_v1['srch_ci_year'] = train_set_v1['srch_ci'].dt.year\n",
    "train_set_v1['srch_co_mon'] = train_set_v1['srch_co'].dt.month\n",
    "train_set_v1['srch_co_year'] = train_set_v1['srch_co'].dt.year"
   ]
  },
  {
   "cell_type": "code",
   "execution_count": 22,
   "id": "fd91cedb",
   "metadata": {},
   "outputs": [],
   "source": [
    "train_set_v1 = train_set_v1.drop(columns=['date_time','srch_ci','srch_co',])"
   ]
  },
  {
   "cell_type": "markdown",
   "id": "7cfde8d7",
   "metadata": {},
   "source": [
    "#### Convert orig_destination_distance column from categorical to numerical-"
   ]
  },
  {
   "cell_type": "code",
   "execution_count": 23,
   "id": "bc89253d",
   "metadata": {},
   "outputs": [],
   "source": [
    "from sklearn import preprocessing\n",
    "\n",
    "label_encoder = preprocessing.LabelEncoder() \n",
    "train_set_v1['orig_destination_distance'] = label_encoder.fit_transform(train_set_v1['orig_destination_distance'])"
   ]
  },
  {
   "cell_type": "markdown",
   "id": "97df1aae",
   "metadata": {},
   "source": [
    "#### Destinations dataset-\n",
    "##### This dataset has 149 columns and all the features are converted to numbers which describe a particular destination id. These features have no labels on them to understand the interpretation. We can use prinipal component analysis (PCA) to reduce our features and still preserve the variance per row."
   ]
  },
  {
   "cell_type": "code",
   "execution_count": 24,
   "id": "4825321d",
   "metadata": {},
   "outputs": [],
   "source": [
    "from sklearn.decomposition import PCA\n",
    "\n",
    "pca = PCA(n_components=5) #reducing the columns to 5\n",
    "dest_v1 = pca.fit_transform(destinations[[\"d{0}\".format(i + 1) for i in range(149)]])\n",
    "dest_v1 = pd.DataFrame(dest_v1)\n",
    "dest_v1[\"srch_destination_id\"] = destinations[\"srch_destination_id\"]"
   ]
  },
  {
   "cell_type": "markdown",
   "id": "84aeb721",
   "metadata": {},
   "source": [
    "#### Merge destinations data to the training set"
   ]
  },
  {
   "cell_type": "code",
   "execution_count": 25,
   "id": "83858f21",
   "metadata": {},
   "outputs": [],
   "source": [
    "train_set_v2 = pd.merge(train_set_v1, dest_v1, on='srch_destination_id', how='left')\n",
    "train_set_v2.replace(np.nan, 0, inplace=True)"
   ]
  },
  {
   "cell_type": "code",
   "execution_count": 26,
   "id": "c7581c8a",
   "metadata": {},
   "outputs": [
    {
     "data": {
      "text/html": [
       "<div>\n",
       "<style scoped>\n",
       "    .dataframe tbody tr th:only-of-type {\n",
       "        vertical-align: middle;\n",
       "    }\n",
       "\n",
       "    .dataframe tbody tr th {\n",
       "        vertical-align: top;\n",
       "    }\n",
       "\n",
       "    .dataframe thead th {\n",
       "        text-align: right;\n",
       "    }\n",
       "</style>\n",
       "<table border=\"1\" class=\"dataframe\">\n",
       "  <thead>\n",
       "    <tr style=\"text-align: right;\">\n",
       "      <th></th>\n",
       "      <th>site_name</th>\n",
       "      <th>posa_continent</th>\n",
       "      <th>user_location_country</th>\n",
       "      <th>user_location_region</th>\n",
       "      <th>user_location_city</th>\n",
       "      <th>orig_destination_distance</th>\n",
       "      <th>user_id</th>\n",
       "      <th>is_mobile</th>\n",
       "      <th>is_package</th>\n",
       "      <th>channel</th>\n",
       "      <th>...</th>\n",
       "      <th>srch_ci_day</th>\n",
       "      <th>srch_ci_mon</th>\n",
       "      <th>srch_ci_year</th>\n",
       "      <th>srch_co_mon</th>\n",
       "      <th>srch_co_year</th>\n",
       "      <th>0</th>\n",
       "      <th>1</th>\n",
       "      <th>2</th>\n",
       "      <th>3</th>\n",
       "      <th>4</th>\n",
       "    </tr>\n",
       "  </thead>\n",
       "  <tbody>\n",
       "    <tr>\n",
       "      <th>0</th>\n",
       "      <td>24</td>\n",
       "      <td>2</td>\n",
       "      <td>3</td>\n",
       "      <td>64</td>\n",
       "      <td>12576</td>\n",
       "      <td>3</td>\n",
       "      <td>2451</td>\n",
       "      <td>0</td>\n",
       "      <td>0</td>\n",
       "      <td>4</td>\n",
       "      <td>...</td>\n",
       "      <td>26</td>\n",
       "      <td>2</td>\n",
       "      <td>2014</td>\n",
       "      <td>2</td>\n",
       "      <td>2014</td>\n",
       "      <td>0.406384</td>\n",
       "      <td>-0.035756</td>\n",
       "      <td>-0.085351</td>\n",
       "      <td>0.084639</td>\n",
       "      <td>-0.101098</td>\n",
       "    </tr>\n",
       "    <tr>\n",
       "      <th>1</th>\n",
       "      <td>24</td>\n",
       "      <td>2</td>\n",
       "      <td>3</td>\n",
       "      <td>64</td>\n",
       "      <td>9448</td>\n",
       "      <td>3</td>\n",
       "      <td>2451</td>\n",
       "      <td>0</td>\n",
       "      <td>0</td>\n",
       "      <td>4</td>\n",
       "      <td>...</td>\n",
       "      <td>4</td>\n",
       "      <td>2</td>\n",
       "      <td>2015</td>\n",
       "      <td>2</td>\n",
       "      <td>2015</td>\n",
       "      <td>0.000000</td>\n",
       "      <td>0.000000</td>\n",
       "      <td>0.000000</td>\n",
       "      <td>0.000000</td>\n",
       "      <td>0.000000</td>\n",
       "    </tr>\n",
       "    <tr>\n",
       "      <th>2</th>\n",
       "      <td>24</td>\n",
       "      <td>2</td>\n",
       "      <td>3</td>\n",
       "      <td>64</td>\n",
       "      <td>9448</td>\n",
       "      <td>3</td>\n",
       "      <td>2451</td>\n",
       "      <td>0</td>\n",
       "      <td>0</td>\n",
       "      <td>4</td>\n",
       "      <td>...</td>\n",
       "      <td>10</td>\n",
       "      <td>2</td>\n",
       "      <td>2015</td>\n",
       "      <td>2</td>\n",
       "      <td>2015</td>\n",
       "      <td>0.633453</td>\n",
       "      <td>-0.201750</td>\n",
       "      <td>-0.104658</td>\n",
       "      <td>0.149841</td>\n",
       "      <td>-0.139221</td>\n",
       "    </tr>\n",
       "    <tr>\n",
       "      <th>3</th>\n",
       "      <td>24</td>\n",
       "      <td>2</td>\n",
       "      <td>3</td>\n",
       "      <td>64</td>\n",
       "      <td>9448</td>\n",
       "      <td>3</td>\n",
       "      <td>2451</td>\n",
       "      <td>0</td>\n",
       "      <td>0</td>\n",
       "      <td>4</td>\n",
       "      <td>...</td>\n",
       "      <td>7</td>\n",
       "      <td>2</td>\n",
       "      <td>2015</td>\n",
       "      <td>2</td>\n",
       "      <td>2015</td>\n",
       "      <td>0.346895</td>\n",
       "      <td>-0.138010</td>\n",
       "      <td>-0.309934</td>\n",
       "      <td>0.167468</td>\n",
       "      <td>-0.007366</td>\n",
       "    </tr>\n",
       "    <tr>\n",
       "      <th>4</th>\n",
       "      <td>24</td>\n",
       "      <td>2</td>\n",
       "      <td>3</td>\n",
       "      <td>64</td>\n",
       "      <td>9448</td>\n",
       "      <td>3</td>\n",
       "      <td>2451</td>\n",
       "      <td>0</td>\n",
       "      <td>0</td>\n",
       "      <td>4</td>\n",
       "      <td>...</td>\n",
       "      <td>8</td>\n",
       "      <td>2</td>\n",
       "      <td>2015</td>\n",
       "      <td>2</td>\n",
       "      <td>2015</td>\n",
       "      <td>0.385035</td>\n",
       "      <td>-0.423696</td>\n",
       "      <td>-0.509905</td>\n",
       "      <td>0.191807</td>\n",
       "      <td>-0.015865</td>\n",
       "    </tr>\n",
       "  </tbody>\n",
       "</table>\n",
       "<p>5 rows × 35 columns</p>\n",
       "</div>"
      ],
      "text/plain": [
       "   site_name  posa_continent  user_location_country  user_location_region  \\\n",
       "0         24               2                      3                    64   \n",
       "1         24               2                      3                    64   \n",
       "2         24               2                      3                    64   \n",
       "3         24               2                      3                    64   \n",
       "4         24               2                      3                    64   \n",
       "\n",
       "   user_location_city  orig_destination_distance  user_id  is_mobile  \\\n",
       "0               12576                          3     2451          0   \n",
       "1                9448                          3     2451          0   \n",
       "2                9448                          3     2451          0   \n",
       "3                9448                          3     2451          0   \n",
       "4                9448                          3     2451          0   \n",
       "\n",
       "   is_package  channel  ...  srch_ci_day  srch_ci_mon  srch_ci_year  \\\n",
       "0           0        4  ...           26            2          2014   \n",
       "1           0        4  ...            4            2          2015   \n",
       "2           0        4  ...           10            2          2015   \n",
       "3           0        4  ...            7            2          2015   \n",
       "4           0        4  ...            8            2          2015   \n",
       "\n",
       "   srch_co_mon  srch_co_year         0         1         2         3         4  \n",
       "0            2          2014  0.406384 -0.035756 -0.085351  0.084639 -0.101098  \n",
       "1            2          2015  0.000000  0.000000  0.000000  0.000000  0.000000  \n",
       "2            2          2015  0.633453 -0.201750 -0.104658  0.149841 -0.139221  \n",
       "3            2          2015  0.346895 -0.138010 -0.309934  0.167468 -0.007366  \n",
       "4            2          2015  0.385035 -0.423696 -0.509905  0.191807 -0.015865  \n",
       "\n",
       "[5 rows x 35 columns]"
      ]
     },
     "execution_count": 26,
     "metadata": {},
     "output_type": "execute_result"
    }
   ],
   "source": [
    "train_set_v2 = train_set_v2.reset_index(drop=True)\n",
    "train_set_v2.head()"
   ]
  },
  {
   "cell_type": "markdown",
   "id": "edcea70c-d7a9-454a-b9d6-ae0a8a336761",
   "metadata": {},
   "source": [
    "## Modelling-\n",
    "***\n",
    "#### Understanding the relationship with hotel_clusters-"
   ]
  },
  {
   "cell_type": "code",
   "execution_count": 27,
   "id": "d7b16f0a-8ec4-4c8f-865a-2a26a0718324",
   "metadata": {
    "tags": []
   },
   "outputs": [
    {
     "data": {
      "text/plain": [
       "91    1417\n",
       "48    1115\n",
       "59     892\n",
       "42     845\n",
       "28     765\n",
       "      ... \n",
       "87      79\n",
       "92      72\n",
       "53      45\n",
       "74      40\n",
       "27      29\n",
       "Name: hotel_cluster, Length: 100, dtype: int64"
      ]
     },
     "execution_count": 27,
     "metadata": {},
     "output_type": "execute_result"
    }
   ],
   "source": [
    "train_set_v2[\"hotel_cluster\"].value_counts()"
   ]
  },
  {
   "cell_type": "markdown",
   "id": "9e092b51-b4c4-4ab0-a6f9-e219cced9176",
   "metadata": {},
   "source": [
    "#### This shows that cluster number and its count have no relation and they are almost fairly distributed. \n",
    "#### Let us now check hotel_cluster correlation with the other features-"
   ]
  },
  {
   "cell_type": "code",
   "execution_count": 28,
   "id": "44c581c1-866b-444a-936d-aab4fb0aace2",
   "metadata": {
    "tags": []
   },
   "outputs": [
    {
     "data": {
      "text/plain": [
       "site_name                   -0.000483\n",
       "posa_continent              -0.007735\n",
       "user_location_country       -0.021498\n",
       "user_location_region         0.001602\n",
       "user_location_city          -0.001510\n",
       "orig_destination_distance    0.009079\n",
       "user_id                      0.011716\n",
       "is_mobile                    0.000147\n",
       "is_package                   0.006233\n",
       "channel                      0.004628\n",
       "srch_adults_cnt              0.005352\n",
       "srch_children_cnt            0.010583\n",
       "srch_rm_cnt                 -0.002825\n",
       "srch_destination_id         -0.004606\n",
       "srch_destination_type_id    -0.025486\n",
       "is_booking                        NaN\n",
       "cnt                         -0.003309\n",
       "hotel_continent              0.005621\n",
       "hotel_country                0.004526\n",
       "hotel_market                 0.038320\n",
       "hotel_cluster                1.000000\n",
       "stay_dur                     0.042957\n",
       "no_of_days_before_booking    0.014818\n",
       "current_mon                  0.004033\n",
       "current_year                -0.001139\n",
       "srch_ci_day                  0.004281\n",
       "srch_ci_mon                  0.010809\n",
       "srch_ci_year                -0.001046\n",
       "srch_co_mon                  0.012984\n",
       "srch_co_year                -0.001494\n",
       "0                           -0.010261\n",
       "1                            0.005673\n",
       "2                           -0.060817\n",
       "3                            0.030906\n",
       "4                           -0.043822\n",
       "Name: hotel_cluster, dtype: float64"
      ]
     },
     "execution_count": 28,
     "metadata": {},
     "output_type": "execute_result"
    }
   ],
   "source": [
    "train_set_v2.corr()[\"hotel_cluster\"]"
   ]
  },
  {
   "cell_type": "markdown",
   "id": "e3a96dc6-94c4-4e11-8634-634e6ce6f184",
   "metadata": {},
   "source": [
    "#### hotel_cluster doesn't have strong correlation with any of the features. Hence, Linear regression/ Logistic Regression will not be suited for our dataset."
   ]
  },
  {
   "cell_type": "markdown",
   "id": "1b116f97",
   "metadata": {},
   "source": [
    "#### 1. Random Forest Algorithm-"
   ]
  },
  {
   "cell_type": "code",
   "execution_count": 35,
   "id": "9c169965",
   "metadata": {},
   "outputs": [
    {
     "data": {
      "text/plain": [
       "Index(['site_name', 'posa_continent', 'user_location_country',\n",
       "       'user_location_region', 'user_location_city',\n",
       "       'orig_destination_distance', 'user_id', 'is_mobile', 'is_package',\n",
       "       'channel', 'srch_adults_cnt', 'srch_children_cnt', 'srch_rm_cnt',\n",
       "       'srch_destination_id', 'srch_destination_type_id', 'is_booking', 'cnt',\n",
       "       'hotel_continent', 'hotel_country', 'hotel_market', 'hotel_cluster',\n",
       "       'stay_dur', 'no_of_days_before_booking', 'current_mon', 'current_year',\n",
       "       'srch_ci_day', 'srch_ci_mon', 'srch_ci_year', 'srch_co_mon',\n",
       "       'srch_co_year', 'd0', 'd1', 'd2', 'd3', 'd4'],\n",
       "      dtype='object')"
      ]
     },
     "execution_count": 35,
     "metadata": {},
     "output_type": "execute_result"
    }
   ],
   "source": [
    "train_set_v2.rename(columns={'0': 'd0', '1': 'd1','2': 'd2', '3': 'd3','4': 'd4'}, inplace=True)\n",
    "train_set_v2.columns = train_set_v2.columns.astype(str)\n",
    "train_set_v2.columns"
   ]
  },
  {
   "cell_type": "code",
   "execution_count": 36,
   "id": "df8d2255",
   "metadata": {},
   "outputs": [],
   "source": [
    "predictors = [c for c in train_set_v2.columns if c not in [\"hotel_cluster\"]]\n",
    "from sklearn.model_selection import cross_validate"
   ]
  },
  {
   "cell_type": "code",
   "execution_count": 37,
   "id": "7edb88b5",
   "metadata": {
    "scrolled": true
   },
   "outputs": [
    {
     "data": {
      "text/plain": [
       "{'fit_time': array([2.13986301, 2.0576973 ]),\n",
       " 'score_time': array([1.39041471, 1.34388852]),\n",
       " 'test_score': array([0.08723163, 0.08441945])}"
      ]
     },
     "execution_count": 37,
     "metadata": {},
     "output_type": "execute_result"
    }
   ],
   "source": [
    "from sklearn.ensemble import RandomForestClassifier\n",
    "clf = RandomForestClassifier(n_estimators=100, min_weight_fraction_leaf=0.1)\n",
    "scores = cross_validate(clf, train_set_v2[predictors], train_set_v2[\"hotel_cluster\"], cv=2)\n",
    "scores"
   ]
  },
  {
   "cell_type": "markdown",
   "id": "04c697a6",
   "metadata": {},
   "source": [
    "#### 2.KNN-"
   ]
  },
  {
   "cell_type": "code",
   "execution_count": 41,
   "id": "57f5ec7d",
   "metadata": {},
   "outputs": [
    {
     "data": {
      "text/plain": [
       "{'fit_time': array([0.01209903, 0.01563334]),\n",
       " 'score_time': array([0.83707476, 1.00965643]),\n",
       " 'test_score': array([-0.07215501, -0.07039477])}"
      ]
     },
     "execution_count": 41,
     "metadata": {},
     "output_type": "execute_result"
    }
   ],
   "source": [
    "from sklearn.neighbors import KNeighborsRegressor\n",
    "knn_model = KNeighborsRegressor(n_neighbors=20)\n",
    "scores = cross_validate(knn_model, train_set_v2[predictors], train_set_v2[\"hotel_cluster\"], cv=2)\n",
    "scores"
   ]
  },
  {
   "cell_type": "markdown",
   "id": "bf71e557-eb1a-4785-929c-6afb82eed139",
   "metadata": {
    "tags": []
   },
   "source": [
    "\n",
    "\n",
    "\n",
    "\n",
    "\n",
    "\n",
    "\n",
    "\n",
    "\n",
    "\n",
    "\n",
    "\n",
    "\n",
    "\n",
    "\n",
    "\n",
    "#### Make initial plots to understand how the bookings are distributed-"
   ]
  },
  {
   "cell_type": "code",
   "execution_count": 52,
   "id": "c22f6246",
   "metadata": {},
   "outputs": [],
   "source": [
    "import numpy as np\n",
    "import seaborn as sns\n",
    "import matplotlib.pyplot as plt "
   ]
  },
  {
   "cell_type": "markdown",
   "id": "c8c6246f",
   "metadata": {},
   "source": [
    "#### Which country has the highest bookings? "
   ]
  },
  {
   "cell_type": "code",
   "execution_count": 68,
   "id": "3ae02349",
   "metadata": {},
   "outputs": [
    {
     "data": {
      "text/plain": [
       "[Text(0.5, 1.0, 'Top 30 countries by bookings')]"
      ]
     },
     "execution_count": 68,
     "metadata": {},
     "output_type": "execute_result"
    },
    {
     "data": {
      "image/png": "[encoded data removed]",
      "text/plain": [
       "<Figure size 1500x1000 with 1 Axes>"
      ]
     },
     "metadata": {},
     "output_type": "display_data"
    }
   ],
   "source": [
    "plt.figure(figsize=(15,10))\n",
    "sns.countplot(x='hotel_country',data=train_set,order=train_set.value_counts(train_set['hotel_country']).iloc[:30].index).set(title=\"Top 30 countries by bookings\")"
   ]
  },
  {
   "cell_type": "markdown",
   "id": "36228ff7",
   "metadata": {},
   "source": [
    "#### Where are most of the customers from? "
   ]
  },
  {
   "cell_type": "code",
   "execution_count": 69,
   "id": "9c46b2a9",
   "metadata": {},
   "outputs": [
    {
     "data": {
      "text/plain": [
       "[Text(0.5, 1.0, 'Top 30 countries based on customer base')]"
      ]
     },
     "execution_count": 69,
     "metadata": {},
     "output_type": "execute_result"
    },
    {
     "data": {
      "image/png": "[encoded data removed]",
      "text/plain": [
       "<Figure size 1500x1000 with 1 Axes>"
      ]
     },
     "metadata": {},
     "output_type": "display_data"
    }
   ],
   "source": [
    "plt.figure(figsize=(15,10))\n",
    "sns.countplot(x='user_location_country',data=train_set,order=train_set.value_counts(train_set['user_location_country']).iloc[:30].index).set(title=\"Top 30 countries based on customer base\")"
   ]
  },
  {
   "cell_type": "markdown",
   "id": "15f41288",
   "metadata": {},
   "source": [
    "#### Frequency of each hotel cluster? "
   ]
  },
  {
   "cell_type": "code",
   "execution_count": 70,
   "id": "26205fd1",
   "metadata": {},
   "outputs": [
    {
     "data": {
      "text/plain": [
       "[Text(0.5, 1.0, 'Top 30 clusters')]"
      ]
     },
     "execution_count": 70,
     "metadata": {},
     "output_type": "execute_result"
    },
    {
     "data": {
      "image/png": "[encoded data removed]",
      "text/plain": [
       "<Figure size 1500x1000 with 1 Axes>"
      ]
     },
     "metadata": {},
     "output_type": "display_data"
    }
   ],
   "source": [
    "plt.figure(figsize=(15,10))\n",
    "sns.countplot(x='hotel_cluster',data=train_set,order=train_set.value_counts(train_set['hotel_cluster']).iloc[:30].index).set(title=\"Top 30 clusters\")"
   ]
  },
  {
   "cell_type": "markdown",
   "id": "0777ca04",
   "metadata": {},
   "source": [
    "#### The most frequent hotel clusters in the highest booked country?"
   ]
  },
  {
   "cell_type": "code",
   "execution_count": 71,
   "id": "9d2b823c",
   "metadata": {},
   "outputs": [
    {
     "data": {
      "text/plain": [
       "[Text(0.5, 1.0, 'Top 30 clusters for highest booked country')]"
      ]
     },
     "execution_count": 71,
     "metadata": {},
     "output_type": "execute_result"
    },
    {
     "data": {
      "image/png": "[encoded data removed]",
      "text/plain": [
       "<Figure size 1500x1000 with 1 Axes>"
      ]
     },
     "metadata": {},
     "output_type": "display_data"
    }
   ],
   "source": [
    "cluster_data=train_set[train_set['hotel_country']==50]\n",
    "plt.figure(figsize=(15,10))\n",
    "sns.countplot(x='hotel_cluster',data=cluster_data,order=cluster_data.value_counts(cluster_data['hotel_cluster']).iloc[:30].index).set(title=\"Top 30 clusters for highest booked country\")"
   ]
  },
  {
   "cell_type": "markdown",
   "id": "5cf272a2",
   "metadata": {},
   "source": [
    "#### Are most bookings through mobile or other devices?\n",
    "#### For reference- Booking by mobile-1, Booking by other devices-0"
   ]
  },
  {
   "cell_type": "code",
   "execution_count": 74,
   "id": "414ffcab",
   "metadata": {},
   "outputs": [
    {
     "data": {
      "text/plain": [
       "[Text(0.5, 1.0, 'Bookings by device')]"
      ]
     },
     "execution_count": 74,
     "metadata": {},
     "output_type": "execute_result"
    },
    {
     "data": {
      "image/png": "[encoded data removed]",
      "text/plain": [
       "<Figure size 1500x1000 with 1 Axes>"
      ]
     },
     "metadata": {},
     "output_type": "display_data"
    }
   ],
   "source": [
    "plt.figure(figsize=(15,10))\n",
    "sns.countplot(x='is_mobile',data=train_set).set(title=\"Bookings by device\")"
   ]
  },
  {
   "cell_type": "markdown",
   "id": "0b2aca34",
   "metadata": {},
   "source": [
    "#### Based on the above analysis, we can make few more transformations on the data and prepare the model. Changes include-\n",
    "#### - Adding more features like the change the data type for date columns, calculate no. of days of stay in the hotel.\n",
    "#### - Filling up the null values in the columns.\n",
    "#### - Change data types wherever required."
   ]
  },
  {
   "cell_type": "code",
   "execution_count": null,
   "id": "d25aafae-9dca-4191-ace2-eee5132096b9",
   "metadata": {},
   "outputs": [],
   "source": []
  }
 ],
 "metadata": {
  "kernelspec": {
   "display_name": "Python 3 (ipykernel)",
   "language": "python",
   "name": "python3"
  },
  "language_info": {
   "codemirror_mode": {
    "name": "ipython",
    "version": 3
   },
   "file_extension": ".py",
   "mimetype": "text/x-python",
   "name": "python",
   "nbconvert_exporter": "python",
   "pygments_lexer": "ipython3",
   "version": "3.11.4"
  }
 },
 "nbformat": 4,
 "nbformat_minor": 5
}
